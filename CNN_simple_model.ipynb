{
 "cells": [
  {
   "cell_type": "code",
   "execution_count": null,
   "id": "0996a931",
   "metadata": {},
   "outputs": [],
   "source": [
    "import cv2 as cv\n",
    "import numpy as np\n",
    "import matplotlib.pyplot as plt\n",
    "import tensorflow as tf\n",
    "from tensorflow.keras import layers, models\n",
    "from tensorflow.keras.models import Sequential\n",
    "import os\n",
    "import pandas as pd"
   ]
  },
  {
   "cell_type": "code",
   "execution_count": null,
   "id": "d371e9c8",
   "metadata": {},
   "outputs": [],
   "source": [
    "# dataset paths\n",
    "data_train_path = './train_folder'\n",
    "data_test_path = './test_folder'\n",
    "\n",
    "# Classes\n",
    "classes = os.listdir(data_train_path)\n",
    "num_classes = len(classes)\n",
    "\n",
    "print(\"Total number of classes: \" + str(num_classes))"
   ]
  },
  {
   "cell_type": "code",
   "execution_count": null,
   "id": "5a357ed6",
   "metadata": {},
   "outputs": [],
   "source": []
  },
  {
   "cell_type": "code",
   "execution_count": null,
   "id": "84e06c6d",
   "metadata": {},
   "outputs": [],
   "source": [
    "model = models.Sequential([\n",
    "    layers.Conv2D(32, (3, 3), activation='relu', input_shape=(224, 224, 3)),  # 1º bloco\n",
    "    layers.MaxPooling2D((2, 2)),\n",
    "\n",
    "    layers.Conv2D(64, (3, 3), activation='relu'),  # 2º bloco\n",
    "    layers.MaxPooling2D((2, 2)),\n",
    "\n",
    "    layers.Conv2D(128, (3, 3), activation='relu'),  # 3º bloco\n",
    "    layers.MaxPooling2D((2, 2)),\n",
    "\n",
    "    layers.Flatten(),  # transforma em vetor\n",
    "    layers.Dense(128, activation='relu'),  # camada densa\n",
    "    layers.Dropout(0.5),  # evita overfitting\n",
    "    layers.Dense(num_classes, activation='softmax')  # saída para classificação\n",
    "])\n"
   ]
  }
 ],
 "metadata": {
  "language_info": {
   "name": "python"
  }
 },
 "nbformat": 4,
 "nbformat_minor": 5
}
